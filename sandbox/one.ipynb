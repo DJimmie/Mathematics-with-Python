{
 "cells": [
  {
   "cell_type": "code",
   "execution_count": null,
   "metadata": {},
   "outputs": [],
   "source": []
  },
  {
   "cell_type": "markdown",
   "metadata": {},
   "source": [
    "### format specifier"
   ]
  },
  {
   "cell_type": "code",
   "execution_count": 19,
   "metadata": {},
   "outputs": [
    {
     "name": "stdout",
     "output_type": "stream",
     "text": [
      "Default output gives t = 1.234567.\n",
      "We can set the precision: t = 1.2.\n",
      "Or control the number of decimals: t = 1.23.\n",
      "We may set the space used for the output: t =     1.23.\n",
      "We may set the space used for the output: t =    25.40.\n"
     ]
    }
   ],
   "source": [
    "t = 1.234567\n",
    "print(f\"Default output gives t = {t}.\")\n",
    "print(f\"We can set the precision: t = {t:.2}.\")\n",
    "print(f\"Or control the number of decimals: t = {t:.2f}.\")\n",
    "print(f\"We may set the space used for the output: t = {t:8.2f}.\")\n",
    "u=25.3957541235\n",
    "print(f\"We may set the space used for the output: t = {u:8.2f}.\")"
   ]
  },
  {
   "cell_type": "code",
   "execution_count": null,
   "metadata": {},
   "outputs": [],
   "source": []
  },
  {
   "cell_type": "code",
   "execution_count": 20,
   "metadata": {},
   "outputs": [
    {
     "name": "stdout",
     "output_type": "stream",
     "text": [
      "Without the format specifier: a = 786345687.12, b = 1.2345.\n",
      "With the format specifier: a = 7.86346e+08, b = 1.2345.\n"
     ]
    }
   ],
   "source": [
    "a = 786345687.12\n",
    "b = 1.2345\n",
    "print(f\"Without the format specifier: a = {a}, b = {b}.\")\n",
    "print(f\"With the format specifier: a = {a:g}, b = {b:g}.\")"
   ]
  },
  {
   "cell_type": "markdown",
   "metadata": {},
   "source": [
    "### function call to change a global variable\n",
    "#### passing the global variable in as an argument, returning the variable from the function, and then assigning the returned value to the global variable."
   ]
  },
  {
   "cell_type": "code",
   "execution_count": 21,
   "metadata": {},
   "outputs": [
    {
     "name": "stdout",
     "output_type": "stream",
     "text": [
      "131.59317792358402 4.0\n"
     ]
    }
   ],
   "source": [
    "P = 100\n",
    "r = 5.0\n",
    "def amount(n,r):\n",
    "    r = r - 1.0\n",
    "    a = P*(1+r/100)**n\n",
    "    return a, r\n",
    "a0, r = amount(7,r)\n",
    "print(a0, r)"
   ]
  },
  {
   "cell_type": "markdown",
   "metadata": {},
   "source": [
    "### Functions as Arguments to Functions"
   ]
  },
  {
   "cell_type": "code",
   "execution_count": 22,
   "metadata": {},
   "outputs": [
    {
     "name": "stdout",
     "output_type": "stream",
     "text": [
      "x = 0.55 is an approximate root, f(0.55) = -1.45668\n"
     ]
    }
   ],
   "source": [
    "from math import exp\n",
    "def bisection(f,a,b,tol):\n",
    "    if f(a)*f(b) > 0:\n",
    "        print(f'No roots or more than one root in [{a},{b}]')\n",
    "        return\n",
    "\n",
    "    m = (a+b)/2\n",
    "    while abs(f(m)) > tol:\n",
    "        if f(a)*f(m) < 0:\n",
    "            b=m\n",
    "        else:\n",
    "            a=m\n",
    "            m = (a+b)/2\n",
    "        return m\n",
    "\n",
    "\n",
    "#call the method for f(x)\n",
    "f = lambda x: x**3-4*x+exp(-x)\n",
    "sol = bisection(f,-0.8,1,1e-8)\n",
    "\n",
    "print(f'x = {sol:g} is an approximate root, f({sol:g}) = {f(sol):g}')"
   ]
  },
  {
   "cell_type": "code",
   "execution_count": 28,
   "metadata": {},
   "outputs": [],
   "source": [
    "def yfunc(t, v0=5, g=9.81):\n",
    "    y = v0*t - 0.5*g*t**2\n",
    "    dydt = v0 - g*t\n",
    "    return y, dydt\n",
    "\n",
    "    \n",
    "#example calls:\n",
    "y1, dy1 = yfunc(0.2)\n",
    "y2, dy2 = yfunc(0.2,v0=7.5)\n",
    "y3, dy3 = yfunc(0.2,7.5,10.0)\n"
   ]
  },
  {
   "cell_type": "code",
   "execution_count": null,
   "metadata": {},
   "outputs": [],
   "source": []
  },
  {
   "cell_type": "markdown",
   "metadata": {},
   "source": [
    "### Writing Test Functions to Verify our Programs"
   ]
  },
  {
   "cell_type": "code",
   "execution_count": 32,
   "metadata": {},
   "outputs": [
    {
     "ename": "AssertionError",
     "evalue": "computed 32, expected 8",
     "output_type": "error",
     "traceback": [
      "\u001b[1;31m---------------------------------------------------------------------------\u001b[0m",
      "\u001b[1;31mAssertionError\u001b[0m                            Traceback (most recent call last)",
      "\u001b[1;32m~\\AppData\\Local\\Temp/ipykernel_35444/2945281781.py\u001b[0m in \u001b[0;36m<module>\u001b[1;34m\u001b[0m\n\u001b[0;32m     11\u001b[0m \u001b[1;33m\u001b[0m\u001b[0m\n\u001b[0;32m     12\u001b[0m \u001b[1;33m\u001b[0m\u001b[0m\n\u001b[1;32m---> 13\u001b[1;33m \u001b[0mtest_double\u001b[0m\u001b[1;33m(\u001b[0m\u001b[1;33m)\u001b[0m\u001b[1;33m\u001b[0m\u001b[1;33m\u001b[0m\u001b[0m\n\u001b[0m",
      "\u001b[1;32m~\\AppData\\Local\\Temp/ipykernel_35444/2945281781.py\u001b[0m in \u001b[0;36mtest_double\u001b[1;34m()\u001b[0m\n\u001b[0;32m      8\u001b[0m     \u001b[0msuccess\u001b[0m \u001b[1;33m=\u001b[0m \u001b[0mcomputed\u001b[0m \u001b[1;33m==\u001b[0m \u001b[0mexpected\u001b[0m \u001b[1;31m# Boolean value: test passed?\u001b[0m\u001b[1;33m\u001b[0m\u001b[1;33m\u001b[0m\u001b[0m\n\u001b[0;32m      9\u001b[0m     \u001b[0mmsg\u001b[0m \u001b[1;33m=\u001b[0m \u001b[1;34mf'computed {computed}, expected {expected}'\u001b[0m\u001b[1;33m\u001b[0m\u001b[1;33m\u001b[0m\u001b[0m\n\u001b[1;32m---> 10\u001b[1;33m     \u001b[1;32massert\u001b[0m \u001b[0msuccess\u001b[0m\u001b[1;33m,\u001b[0m \u001b[0mmsg\u001b[0m\u001b[1;33m\u001b[0m\u001b[1;33m\u001b[0m\u001b[0m\n\u001b[0m\u001b[0;32m     11\u001b[0m \u001b[1;33m\u001b[0m\u001b[0m\n\u001b[0;32m     12\u001b[0m \u001b[1;33m\u001b[0m\u001b[0m\n",
      "\u001b[1;31mAssertionError\u001b[0m: computed 32, expected 8"
     ]
    }
   ],
   "source": [
    "def double(x): # some function\n",
    "    return 2*x\n",
    "\n",
    "def test_double(): # associated test function\n",
    "    x=16 # some chosen x value\n",
    "    expected = 8 # expected result from double(x)\n",
    "    computed = double(x)\n",
    "    success = computed == expected # Boolean value: test passed?\n",
    "    msg = f'computed {computed}, expected {expected}'\n",
    "    assert success, msg\n",
    "\n",
    "    \n",
    "test_double()"
   ]
  },
  {
   "cell_type": "code",
   "execution_count": 40,
   "metadata": {},
   "outputs": [],
   "source": [
    "from math import sin, pi\n",
    "def f(x):\n",
    "    if 0 <= x <= pi:\n",
    "        return sin(x)\n",
    "    else:\n",
    "        return 0\n",
    "\n",
    "\n",
    "\n",
    "def test_f():\n",
    "    x_vals = [-1, pi/2, 3.5]\n",
    "    exp_vals = [0.0, 1.0, 0.0]\n",
    "    tol = 1e-10\n",
    "    for x, exp in zip(x_vals, exp_vals):\n",
    "        assert abs(f(x)-exp) < tol, \\\n",
    "        f'Failed for x = {x}, expected {exp}, but got {f(x)}'\n",
    "\n",
    "\n",
    "test_f()"
   ]
  },
  {
   "cell_type": "markdown",
   "metadata": {},
   "source": [
    "### eval\n",
    "\n",
    "####  generally not recommended for \"real programs\". It is useful for quick prototypes, but should usually be avoided in programs that we expect others to use or that we expect to use ourselves over a longer time frame."
   ]
  },
  {
   "cell_type": "code",
   "execution_count": 44,
   "metadata": {},
   "outputs": [
    {
     "data": {
      "text/plain": [
       "15.0"
      ]
     },
     "execution_count": 44,
     "metadata": {},
     "output_type": "execute_result"
    }
   ],
   "source": [
    "s='45*2/6'\n",
    "r=eval(s)\n",
    "\n",
    "r"
   ]
  },
  {
   "cell_type": "code",
   "execution_count": 55,
   "metadata": {},
   "outputs": [
    {
     "name": "stdout",
     "output_type": "stream",
     "text": [
      "3\n",
      "<class 'int'>\n"
     ]
    }
   ],
   "source": [
    "# Using eval, the code can handle multiple input types. \n",
    "\n",
    "a=eval(input('Enter a number'))\n",
    "\n",
    "print(a)\n",
    "print(type(a))"
   ]
  },
  {
   "cell_type": "code",
   "execution_count": 58,
   "metadata": {},
   "outputs": [
    {
     "name": "stdout",
     "output_type": "stream",
     "text": [
      "45.2\n",
      "<class 'str'>\n"
     ]
    }
   ],
   "source": [
    "b=input('enter ID')\n",
    "\n",
    "print(b)\n",
    "\n",
    "print(type(b))"
   ]
  },
  {
   "cell_type": "markdown",
   "metadata": {},
   "source": [
    "### exec\n",
    "#### eval evaluates an expression, exec executes a string argument as one or more complete statements."
   ]
  },
  {
   "cell_type": "code",
   "execution_count": null,
   "metadata": {},
   "outputs": [],
   "source": []
  },
  {
   "cell_type": "markdown",
   "metadata": {},
   "source": [
    "### Modules"
   ]
  },
  {
   "cell_type": "code",
   "execution_count": 63,
   "metadata": {},
   "outputs": [
    {
     "name": "stdout",
     "output_type": "stream",
     "text": [
      "Money has doubled after 14.206699082890463 years\n"
     ]
    }
   ],
   "source": [
    "from interest import years\n",
    "P = 1; r = 5\n",
    "n = years(P, 2*P, r)\n",
    "print(f'Money has doubled after {n} years')"
   ]
  },
  {
   "cell_type": "code",
   "execution_count": null,
   "metadata": {},
   "outputs": [],
   "source": []
  },
  {
   "cell_type": "code",
   "execution_count": null,
   "metadata": {},
   "outputs": [],
   "source": []
  }
 ],
 "metadata": {
  "interpreter": {
   "hash": "b6f8762930f88de5b0c8c05e9758f080dbb4360a2d7dc4db366f47060b08a267"
  },
  "kernelspec": {
   "display_name": "Python 3.8.6 64-bit ('venv': venv)",
   "language": "python",
   "name": "python3"
  },
  "language_info": {
   "codemirror_mode": {
    "name": "ipython",
    "version": 3
   },
   "file_extension": ".py",
   "mimetype": "text/x-python",
   "name": "python",
   "nbconvert_exporter": "python",
   "pygments_lexer": "ipython3",
   "version": "3.8.6"
  },
  "orig_nbformat": 4
 },
 "nbformat": 4,
 "nbformat_minor": 2
}
