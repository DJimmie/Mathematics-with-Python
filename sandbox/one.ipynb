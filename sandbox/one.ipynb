{
 "cells": [
  {
   "cell_type": "code",
   "execution_count": null,
   "metadata": {},
   "outputs": [],
   "source": []
  },
  {
   "cell_type": "markdown",
   "metadata": {},
   "source": [
    "### format specifier"
   ]
  },
  {
   "cell_type": "code",
   "execution_count": 19,
   "metadata": {},
   "outputs": [
    {
     "name": "stdout",
     "output_type": "stream",
     "text": [
      "Default output gives t = 1.234567.\n",
      "We can set the precision: t = 1.2.\n",
      "Or control the number of decimals: t = 1.23.\n",
      "We may set the space used for the output: t =     1.23.\n",
      "We may set the space used for the output: t =    25.40.\n"
     ]
    }
   ],
   "source": [
    "t = 1.234567\n",
    "print(f\"Default output gives t = {t}.\")\n",
    "print(f\"We can set the precision: t = {t:.2}.\")\n",
    "print(f\"Or control the number of decimals: t = {t:.2f}.\")\n",
    "print(f\"We may set the space used for the output: t = {t:8.2f}.\")\n",
    "u=25.3957541235\n",
    "print(f\"We may set the space used for the output: t = {u:8.2f}.\")"
   ]
  },
  {
   "cell_type": "code",
   "execution_count": null,
   "metadata": {},
   "outputs": [],
   "source": []
  },
  {
   "cell_type": "code",
   "execution_count": 20,
   "metadata": {},
   "outputs": [
    {
     "name": "stdout",
     "output_type": "stream",
     "text": [
      "Without the format specifier: a = 786345687.12, b = 1.2345.\n",
      "With the format specifier: a = 7.86346e+08, b = 1.2345.\n"
     ]
    }
   ],
   "source": [
    "a = 786345687.12\n",
    "b = 1.2345\n",
    "print(f\"Without the format specifier: a = {a}, b = {b}.\")\n",
    "print(f\"With the format specifier: a = {a:g}, b = {b:g}.\")"
   ]
  },
  {
   "cell_type": "markdown",
   "metadata": {},
   "source": [
    "### function call to change a global variable\n",
    "#### passing the global variable in as an argument, returning the variable from the function, and then assigning the returned value to the global variable."
   ]
  },
  {
   "cell_type": "code",
   "execution_count": 21,
   "metadata": {},
   "outputs": [
    {
     "name": "stdout",
     "output_type": "stream",
     "text": [
      "131.59317792358402 4.0\n"
     ]
    }
   ],
   "source": [
    "P = 100\n",
    "r = 5.0\n",
    "def amount(n,r):\n",
    "    r = r - 1.0\n",
    "    a = P*(1+r/100)**n\n",
    "    return a, r\n",
    "a0, r = amount(7,r)\n",
    "print(a0, r)"
   ]
  },
  {
   "cell_type": "markdown",
   "metadata": {},
   "source": [
    "### Functions as Arguments to Functions"
   ]
  },
  {
   "cell_type": "code",
   "execution_count": 22,
   "metadata": {},
   "outputs": [
    {
     "name": "stdout",
     "output_type": "stream",
     "text": [
      "x = 0.55 is an approximate root, f(0.55) = -1.45668\n"
     ]
    }
   ],
   "source": [
    "from math import exp\n",
    "def bisection(f,a,b,tol):\n",
    "    if f(a)*f(b) > 0:\n",
    "        print(f'No roots or more than one root in [{a},{b}]')\n",
    "        return\n",
    "\n",
    "    m = (a+b)/2\n",
    "    while abs(f(m)) > tol:\n",
    "        if f(a)*f(m) < 0:\n",
    "            b=m\n",
    "        else:\n",
    "            a=m\n",
    "            m = (a+b)/2\n",
    "        return m\n",
    "\n",
    "\n",
    "#call the method for f(x)\n",
    "f = lambda x: x**3-4*x+exp(-x)\n",
    "sol = bisection(f,-0.8,1,1e-8)\n",
    "\n",
    "print(f'x = {sol:g} is an approximate root, f({sol:g}) = {f(sol):g}')"
   ]
  },
  {
   "cell_type": "code",
   "execution_count": null,
   "metadata": {},
   "outputs": [],
   "source": []
  }
 ],
 "metadata": {
  "interpreter": {
   "hash": "b6f8762930f88de5b0c8c05e9758f080dbb4360a2d7dc4db366f47060b08a267"
  },
  "kernelspec": {
   "display_name": "Python 3.8.6 64-bit ('venv': venv)",
   "language": "python",
   "name": "python3"
  },
  "language_info": {
   "codemirror_mode": {
    "name": "ipython",
    "version": 3
   },
   "file_extension": ".py",
   "mimetype": "text/x-python",
   "name": "python",
   "nbconvert_exporter": "python",
   "pygments_lexer": "ipython3",
   "version": "3.8.6"
  },
  "orig_nbformat": 4
 },
 "nbformat": 4,
 "nbformat_minor": 2
}
