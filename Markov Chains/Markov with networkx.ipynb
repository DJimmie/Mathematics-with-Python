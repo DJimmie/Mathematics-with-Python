{
 "cells": [
  {
   "cell_type": "code",
   "execution_count": 2,
   "metadata": {},
   "outputs": [
    {
     "name": "stdout",
     "output_type": "stream",
     "text": [
      "open     0.35\n",
      "close    0.35\n",
      "hold     0.30\n",
      "Name: states, dtype: float64\n",
      "1.0\n"
     ]
    }
   ],
   "source": [
    "import numpy as np\n",
    "import pandas as pd\n",
    "import networkx as nx\n",
    "import matplotlib.pyplot as plt\n",
    "\n",
    "%matplotlib inline\n",
    "\n",
    "# create state space and initial state probabilities\n",
    "\n",
    "states = ['open', 'close', 'hold']\n",
    "pi = [0.35, 0.35, 0.3]\n",
    "state_space = pd.Series(pi, index=states, name='states')\n",
    "print(state_space)\n",
    "print(state_space.sum())"
   ]
  },
  {
   "cell_type": "code",
   "execution_count": 3,
   "metadata": {
    "collapsed": true
   },
   "outputs": [],
   "source": [
    "# source: http://www.blackarbs.com/blog/introduction-hidden-markov-models-python-networkx-sklearn/2/9/2017"
   ]
  },
  {
   "cell_type": "code",
   "execution_count": 4,
   "metadata": {},
   "outputs": [
    {
     "name": "stdout",
     "output_type": "stream",
     "text": [
      "       open close hold\n",
      "open    0.4   0.2  0.4\n",
      "close  0.45  0.45  0.1\n",
      "hold   0.45  0.25  0.3\n",
      "\n",
      " [[0.4 0.2 0.4]\n",
      " [0.45 0.45 0.1]\n",
      " [0.45 0.25 0.3]] (3, 3) \n",
      "\n",
      "open     1.0\n",
      "close    1.0\n",
      "hold     1.0\n",
      "dtype: float64\n"
     ]
    }
   ],
   "source": [
    "# create transition matrix\n",
    "# equals transition probability matrix of changing states given a state\n",
    "# matrix is size (M x M) where M is number of states\n",
    "\n",
    "q_df = pd.DataFrame(columns=states, index=states)\n",
    "q_df.loc[states[0]] = [0.4, 0.2, 0.4]\n",
    "q_df.loc[states[1]] = [0.45, 0.45, 0.1]\n",
    "q_df.loc[states[2]] = [0.45, 0.25, .3]\n",
    "\n",
    "print(q_df)\n",
    "\n",
    "q = q_df.values\n",
    "print('\\n', q, q.shape, '\\n')\n",
    "print(q_df.sum(axis=1))"
   ]
  },
  {
   "cell_type": "code",
   "execution_count": 5,
   "metadata": {},
   "outputs": [
    {
     "name": "stdout",
     "output_type": "stream",
     "text": [
      "{('close', 'close'): 0.45,\n",
      " ('close', 'hold'): 0.1,\n",
      " ('close', 'open'): 0.45,\n",
      " ('hold', 'close'): 0.25,\n",
      " ('hold', 'hold'): 0.3,\n",
      " ('hold', 'open'): 0.45,\n",
      " ('open', 'close'): 0.2,\n",
      " ('open', 'hold'): 0.4,\n",
      " ('open', 'open'): 0.4}\n"
     ]
    }
   ],
   "source": [
    "from pprint import pprint \n",
    "\n",
    "# create a function that maps transition probability dataframe \n",
    "# to markov edges and weights\n",
    "\n",
    "def _get_markov_edges(Q):\n",
    "    edges = {}\n",
    "    for col in Q.columns:\n",
    "        for idx in Q.index:\n",
    "            edges[(idx,col)] = Q.loc[idx,col]\n",
    "    return edges\n",
    "\n",
    "edges_wts = _get_markov_edges(q_df)\n",
    "pprint(edges_wts)"
   ]
  },
  {
   "cell_type": "code",
   "execution_count": 6,
   "metadata": {},
   "outputs": [
    {
     "name": "stdout",
     "output_type": "stream",
     "text": [
      "Nodes:\n",
      "['open', 'close', 'hold']\n",
      "\n",
      "Edges:\n",
      "OutMultiEdgeDataView([('open', 'open', {'weight': 0.4, 'label': 0.4}), ('open', 'close', {'weight': 0.2, 'label': 0.2}), ('open', 'hold', {'weight': 0.4, 'label': 0.4}), ('close', 'open', {'weight': 0.45, 'label': 0.45}), ('close', 'close', {'weight': 0.45, 'label': 0.45}), ('close', 'hold', {'weight': 0.1, 'label': 0.1}), ('hold', 'open', {'weight': 0.45, 'label': 0.45}), ('hold', 'close', {'weight': 0.25, 'label': 0.25}), ('hold', 'hold', {'weight': 0.3, 'label': 0.3})])\n"
     ]
    },
    {
     "data": {
      "text/plain": [
       "{('open', 'open'): Text(0.5143752733174859, -0.7118949734706644, '0.4'),\n",
       " ('open', 'close'): Text(-0.242812363341257, -0.3202085960931702, '0.2'),\n",
       " ('open', 'hold'): Text(0.5, -0.03573889064216207, '0.4'),\n",
       " ('close', 'open'): Text(-0.242812363341257, -0.3202085960931702, '0.45'),\n",
       " ('close', 'close'): Text(-0.9999999999999999, 0.07147778128432403, '0.45'),\n",
       " ('close', 'hold'): Text(-0.2571876366587429, 0.35594748673533216, '0.1'),\n",
       " ('hold', 'open'): Text(0.5, -0.03573889064216207, '0.45'),\n",
       " ('hold', 'close'): Text(-0.2571876366587429, 0.35594748673533216, '0.25'),\n",
       " ('hold', 'hold'): Text(0.48562472668251405, 0.6404171921863403, '0.3')}"
      ]
     },
     "execution_count": 6,
     "metadata": {},
     "output_type": "execute_result"
    },
    {
     "data": {
      "image/png": "[encoded data removed]",
      "text/plain": [
       "<Figure size 640x480 with 1 Axes>"
      ]
     },
     "metadata": {},
     "output_type": "display_data"
    }
   ],
   "source": [
    "# create graph object\n",
    "G = nx.MultiDiGraph()\n",
    "\n",
    "# nodes correspond to states\n",
    "G.add_nodes_from(states)\n",
    "print(f'Nodes:\\n{G.nodes()}\\n')\n",
    "\n",
    "# edges represent transition probabilities\n",
    "for k, v in edges_wts.items():\n",
    "    tmp_origin, tmp_destination = k[0], k[1]\n",
    "    G.add_edge(tmp_origin, tmp_destination, weight=v, label=v)\n",
    "print(f'Edges:')\n",
    "pprint(G.edges(data=True))    \n",
    "\n",
    "# pos = nx.drawing.nx_pydot.graphviz_layout(G, prog='dot')\n",
    "pos = nx.spring_layout(G)\n",
    "nx.draw_networkx(G, pos)\n",
    "\n",
    "# create edge labels for jupyter plot but is not necessary\n",
    "edge_labels = {(n1,n2):d['label'] for n1,n2,d in G.edges(data=True)}\n",
    "nx.draw_networkx_edge_labels(G , pos, edge_labels=edge_labels)\n",
    "# nx.drawing.nx_pydot.write_dot(G, 'pet_dog_markov.dot')"
   ]
  },
  {
   "cell_type": "code",
   "execution_count": null,
   "metadata": {
    "collapsed": true
   },
   "outputs": [],
   "source": []
  }
 ],
 "metadata": {
  "kernelspec": {
   "display_name": "Python 3.10.6 ('venv': venv)",
   "language": "python",
   "name": "python3"
  },
  "language_info": {
   "codemirror_mode": {
    "name": "ipython",
    "version": 3
   },
   "file_extension": ".py",
   "mimetype": "text/x-python",
   "name": "python",
   "nbconvert_exporter": "python",
   "pygments_lexer": "ipython3",
   "version": "3.10.6"
  },
  "vscode": {
   "interpreter": {
    "hash": "9b840f410abab4a846cc8b21ce22f8e34932d44b5bb53aae4ddab16dd1211146"
   }
  }
 },
 "nbformat": 4,
 "nbformat_minor": 2
}
